{
 "cells": [
  {
   "cell_type": "markdown",
   "metadata": {},
   "source": [
    "Subiectul 1."
   ]
  },
  {
   "cell_type": "markdown",
   "metadata": {},
   "source": [
    "a."
   ]
  },
  {
   "cell_type": "code",
   "execution_count": 18,
   "metadata": {},
   "outputs": [
    {
     "name": "stderr",
     "output_type": "stream",
     "text": [
      "Initializing NUTS using jitter+adapt_diag...\n",
      "Multiprocess sampling (4 chains in 4 jobs)\n",
      "NUTS: [beta0, beta1, beta2, beta3, beta4]\n"
     ]
    },
    {
     "data": {
      "application/vnd.jupyter.widget-view+json": {
       "model_id": "f7026292082c4c24b3499cb36a2ce032",
       "version_major": 2,
       "version_minor": 0
      },
      "text/plain": [
       "Output()"
      ]
     },
     "metadata": {},
     "output_type": "display_data"
    },
    {
     "data": {
      "text/html": [
       "<pre style=\"white-space:pre;overflow-x:auto;line-height:normal;font-family:Menlo,'DejaVu Sans Mono',consolas,'Courier New',monospace\"></pre>\n"
      ],
      "text/plain": []
     },
     "metadata": {},
     "output_type": "display_data"
    },
    {
     "name": "stderr",
     "output_type": "stream",
     "text": [
      "Sampling 4 chains for 1_000 tune and 2_000 draw iterations (4_000 + 8_000 draws total) took 25 seconds.\n"
     ]
    }
   ],
   "source": [
    "import pandas as pd\n",
    "import pymc as pm\n",
    "import numpy as np\n",
    "import arviz as az\n",
    "data = pd.read_csv(\"date_alegeri_turul2.csv\")\n",
    "\n",
    "x1 = data[\"Varsta\"].values\n",
    "x2 = data[\"Sex\"].values\n",
    "x3 = data[\"Educatie\"].values\n",
    "x4 = data[\"Venit\"].values\n",
    "y = data[\"Vot\"].values\n",
    "\n",
    "x1 = (x1 - np.mean(x1)) / np.std(x1)\n",
    "x4 = (x4 - np.mean(x4)) / np.std(x4)\n",
    "\n",
    "with pm.Model() as model:\n",
    "    beta0 = pm.Normal(\"beta0\", mu=0, sigma=10)\n",
    "    beta1 = pm.Normal(\"beta1\", mu=0, sigma=10)\n",
    "    beta2 = pm.Normal(\"beta2\", mu=0, sigma=10)\n",
    "    beta3 = pm.Normal(\"beta3\", mu=0, sigma=10)\n",
    "    beta4 = pm.Normal(\"beta4\", mu=0, sigma=10)\n",
    "    \n",
    "    p = pm.math.sigmoid(beta0 + beta1 * x1 + beta2 * x2 + beta3 * x3 + beta4 * x4)\n",
    "    \n",
    "    y_obs = pm.Bernoulli(\"y_obs\", p=p, observed=y)\n",
    "    \n",
    "    trace = pm.sample(2000, tune=1000, target_accept=0.95)"
   ]
  },
  {
   "cell_type": "markdown",
   "metadata": {},
   "source": [
    "b)"
   ]
  },
  {
   "cell_type": "code",
   "execution_count": 19,
   "metadata": {},
   "outputs": [
    {
     "name": "stdout",
     "output_type": "stream",
     "text": [
      "Cele mai influente variabile: Index(['beta4', 'beta2'], dtype='object')\n"
     ]
    }
   ],
   "source": [
    "beta_means = az.summary(trace, var_names=[\"beta1\", \"beta2\", \"beta3\", \"beta4\"])[\"mean\"]\n",
    "\n",
    "top_2 = beta_means.abs().sort_values(ascending=False).index[:2]\n",
    "print(\"Cele mai influente variabile:\", top_2)"
   ]
  },
  {
   "cell_type": "markdown",
   "metadata": {},
   "source": [
    "Din rezultatul de mai sus rezulta faptul ca cea mai influente 2 variabile sunt beta2 (Sex) si beta4 (Venit) deoarece acestea au HDI-ul cel mai ridicat"
   ]
  },
  {
   "cell_type": "markdown",
   "metadata": {},
   "source": [
    "c)"
   ]
  },
  {
   "cell_type": "code",
   "execution_count": 20,
   "metadata": {},
   "outputs": [
    {
     "name": "stderr",
     "output_type": "stream",
     "text": [
      "Initializing NUTS using jitter+adapt_diag...\n",
      "Multiprocess sampling (4 chains in 4 jobs)\n",
      "NUTS: [beta0, beta1, beta2]\n"
     ]
    },
    {
     "data": {
      "application/vnd.jupyter.widget-view+json": {
       "model_id": "9b372e8ed96d4147bd682426910cf25a",
       "version_major": 2,
       "version_minor": 0
      },
      "text/plain": [
       "Output()"
      ]
     },
     "metadata": {},
     "output_type": "display_data"
    },
    {
     "data": {
      "text/html": [
       "<pre style=\"white-space:pre;overflow-x:auto;line-height:normal;font-family:Menlo,'DejaVu Sans Mono',consolas,'Courier New',monospace\"></pre>\n"
      ],
      "text/plain": []
     },
     "metadata": {},
     "output_type": "display_data"
    },
    {
     "name": "stderr",
     "output_type": "stream",
     "text": [
      "Sampling 4 chains for 1_000 tune and 1_000 draw iterations (4_000 + 4_000 draws total) took 23 seconds.\n"
     ]
    }
   ],
   "source": [
    "import numpy as np\n",
    "import matplotlib.pyplot as plt\n",
    "import pymc as pm\n",
    "import arviz as az\n",
    "\n",
    "x1 = data['Sex'] \n",
    "x2 = data['Venit']\n",
    "y = data['Vot']\n",
    "\n",
    "with pm.Model() as logistic_model:\n",
    "    beta0 = pm.Normal(\"beta0\", mu=0, sigma=10)\n",
    "    beta1 = pm.Normal(\"beta1\", mu=0, sigma=10)\n",
    "    beta2 = pm.Normal(\"beta2\", mu=0, sigma=10)\n",
    "    \n",
    "    p = pm.math.sigmoid(beta0 + beta1 * x1 + beta2 * x2)\n",
    "    y_obs = pm.Bernoulli(\"y_obs\", p=p, observed=y)\n",
    "    \n",
    "    trace = pm.sample(1000, tune=1000, return_inferencedata=True)\n",
    "\n",
    "beta0_mean = trace.posterior['beta0'].mean().item()\n",
    "beta1_mean = trace.posterior['beta1'].mean().item()\n",
    "beta2_mean = trace.posterior['beta2'].mean().item()\n",
    "\n"
   ]
  },
  {
   "cell_type": "markdown",
   "metadata": {},
   "source": [
    "Subiectul 2"
   ]
  },
  {
   "cell_type": "code",
   "execution_count": null,
   "metadata": {},
   "outputs": [
    {
     "name": "stdout",
     "output_type": "stream",
     "text": [
      "Cea mai buna caracteristica pentru separare: petal_width\n",
      "Rezultatele complete: {'sepal_length': {'silhouette_score': 0.5608928970606418, 'davies_bouldin_score': 0.5282131804268166}, 'sepal_width': {'silhouette_score': 0.5641985631061969, 'davies_bouldin_score': 0.5190101059463758}, 'petal_length': {'silhouette_score': 0.6781767245923337, 'davies_bouldin_score': 0.4487565687151886}, 'petal_width': {'silhouette_score': 0.7268315079591691, 'davies_bouldin_score': 0.39278522884998607}}\n"
     ]
    }
   ],
   "source": [
    "import pandas as pd\n",
    "import numpy as np\n",
    "from sklearn.mixture import GaussianMixture\n",
    "from sklearn.metrics import silhouette_score, davies_bouldin_score\n",
    "\n",
    "data = pd.read_csv(\"iris.csv\")\n",
    "features = ['sepal_length', 'sepal_width', 'petal_length', 'petal_width']\n",
    "results = {}\n",
    "\n",
    "for feature in features:\n",
    "    X = data[[feature]].values\n",
    "    gmm = GaussianMixture(n_components=3, random_state=42)\n",
    "    clusters = gmm.fit_predict(X)\n",
    "\n",
    "    silhouette = silhouette_score(X, clusters)\n",
    "    davies_bouldin = davies_bouldin_score(X, clusters)\n",
    "\n",
    "    results[feature] = {\n",
    "        \"silhouette_score\": silhouette,\n",
    "        \"davies_bouldin_score\": davies_bouldin\n",
    "    }\n",
    "\n",
    "best_feature = max(results, key=lambda f: results[f]['silhouette_score'])\n",
    "print(\"Cea mai buna caracteristica pentru separare:\", best_feature)\n",
    "print(\"Rezultatele complete:\", results)\n"
   ]
  }
 ],
 "metadata": {
  "kernelspec": {
   "display_name": "Python 3",
   "language": "python",
   "name": "python3"
  },
  "language_info": {
   "codemirror_mode": {
    "name": "ipython",
    "version": 3
   },
   "file_extension": ".py",
   "mimetype": "text/x-python",
   "name": "python",
   "nbconvert_exporter": "python",
   "pygments_lexer": "ipython3",
   "version": "3.11.0"
  }
 },
 "nbformat": 4,
 "nbformat_minor": 2
}
