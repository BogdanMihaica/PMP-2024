{
 "cells": [
  {
   "cell_type": "markdown",
   "metadata": {},
   "source": [
    "a) Definiţi un model în PyMC pentru această problemă. Puteţi alege ca distribuţii a priori 𝜇 ∼ N (𝑥, 102) şi\n",
    "                                                                                           𝜎 ∼HalfNormal(10).  \n",
    "  Cât ar trebui să fie 𝑥?"
   ]
  },
  {
   "cell_type": "code",
   "execution_count": 1,
   "metadata": {},
   "outputs": [
    {
     "name": "stderr",
     "output_type": "stream",
     "text": [
      "WARNING (pytensor.tensor.blas): Using NumPy C-API based implementation for BLAS functions.\n"
     ]
    },
    {
     "name": "stdout",
     "output_type": "stream",
     "text": [
      "X este : 58.0\n"
     ]
    },
    {
     "name": "stderr",
     "output_type": "stream",
     "text": [
      "Auto-assigning NUTS sampler...\n",
      "Initializing NUTS using jitter+adapt_diag...\n",
      "Multiprocess sampling (4 chains in 4 jobs)\n",
      "NUTS: [mu, sigma]\n"
     ]
    },
    {
     "data": {
      "application/vnd.jupyter.widget-view+json": {
       "model_id": "5f591e51b2bc4375b0b8f2fa75f726bf",
       "version_major": 2,
       "version_minor": 0
      },
      "text/plain": [
       "Output()"
      ]
     },
     "metadata": {},
     "output_type": "display_data"
    },
    {
     "data": {
      "text/html": [
       "<pre style=\"white-space:pre;overflow-x:auto;line-height:normal;font-family:Menlo,'DejaVu Sans Mono',consolas,'Courier New',monospace\"></pre>\n"
      ],
      "text/plain": []
     },
     "metadata": {},
     "output_type": "display_data"
    },
    {
     "name": "stderr",
     "output_type": "stream",
     "text": [
      "Sampling 4 chains for 1_000 tune and 2_000 draw iterations (4_000 + 8_000 draws total) took 16 seconds.\n"
     ]
    },
    {
     "name": "stdout",
     "output_type": "stream",
     "text": [
      "Intervalul de credibilitate HDI 95% pentru media zgomotului (𝜇): 56.42 - 59.47 dB\n",
      "Intervalul de credibilitate HDI 95% pentru deviația standard a zgomotului (𝜎): 1.33 - 3.63 dB\n"
     ]
    }
   ],
   "source": [
    "import numpy as np\n",
    "import pymc as pm\n",
    "import arviz as az\n",
    "import matplotlib.pyplot as plt\n",
    "# Observațiile nivelului de zgomot\n",
    "data = np.array([56, 60, 58, 55, 57, 59, 61, 56, 58, 60])\n",
    "\n",
    "x_mean = np.mean(data)\n",
    "print(\"X este :\",x_mean)\n",
    "\n",
    "with pm.Model() as noise_model:\n",
    "    #prior pentru media 𝜇\n",
    "    mu = pm.Normal('mu', mu=x_mean, sigma=10)\n",
    "    \n",
    "    #prior pentru deviația standard 𝜎\n",
    "    sigma = pm.HalfNormal('sigma', sigma=10)\n",
    "    #likelihood\n",
    "    Y_obs = pm.Normal('Y_obs', mu=mu, sigma=sigma, observed=data)   \n",
    "    #samplin\n",
    "    trace = pm.sample(2000, tune=1000, return_inferencedata=True)\n",
    "\n",
    "hdi_mu = az.hdi(trace, var_names=[\"mu\"], hdi_prob=0.95)\n",
    "hdi_sigma = az.hdi(trace, var_names=[\"sigma\"], hdi_prob=0.95)\n",
    "#b)\n",
    "print(f\"Intervalul de credibilitate HDI 95% pentru media zgomotului (𝜇): {hdi_mu['mu'].values[0]:.2f} - {hdi_mu['mu'].values[1]:.2f} dB\")\n",
    "print(f\"Intervalul de credibilitate HDI 95% pentru deviația standard a zgomotului (𝜎): {hdi_sigma['sigma'].values[0]:.2f} - {hdi_sigma['sigma'].values[1]:.2f} dB\")\n",
    "\n"
   ]
  }
 ],
 "metadata": {
  "kernelspec": {
   "display_name": "Python 3",
   "language": "python",
   "name": "python3"
  },
  "language_info": {
   "codemirror_mode": {
    "name": "ipython",
    "version": 3
   },
   "file_extension": ".py",
   "mimetype": "text/x-python",
   "name": "python",
   "nbconvert_exporter": "python",
   "pygments_lexer": "ipython3",
   "version": "3.12.1"
  }
 },
 "nbformat": 4,
 "nbformat_minor": 2
}
