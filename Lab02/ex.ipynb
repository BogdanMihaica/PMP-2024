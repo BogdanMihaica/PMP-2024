{
 "cells": [
  {
   "cell_type": "code",
   "execution_count": 12,
   "metadata": {},
   "outputs": [
    {
     "name": "stdout",
     "output_type": "stream",
     "text": [
      "albastra\n"
     ]
    }
   ],
   "source": [
    "import random\n",
    "\n",
    "\n",
    "def experiment():\n",
    "    bileRosii=3\n",
    "    bileAlbastre=4\n",
    "    bileNegre=2 \n",
    "    zar = random.randint(1,6)\n",
    "    if zar in [2,3,5]:\n",
    "        bileNegre+=1\n",
    "    elif zar==6:\n",
    "        bileRosii+=1\n",
    "    else: bileAlbastre+=1\n",
    "\n",
    "    urna = bileRosii * [\"rosie\"] + bileAlbastre * [\"albastra\"] + bileNegre*[\"neagra\"]\n",
    "    bilaExtrasa = urna[random.randint(0,len(urna)-1)]\n",
    "    return bilaExtrasa\n",
    "\n",
    "print(experiment())"
   ]
  },
  {
   "cell_type": "code",
   "execution_count": null,
   "metadata": {},
   "outputs": [],
   "source": []
  },
  {
   "cell_type": "markdown",
   "metadata": {},
   "source": [
    "Pentru a rezolva punctul a am folosit libraria random pentru a simula aruncarea zarului si am modificact numarul de bile conform cerintei in functie de valoarea zarului, apoi am construit urna si am extras un element aleatoriu din aceasta"
   ]
  },
  {
   "cell_type": "code",
   "execution_count": 20,
   "metadata": {},
   "outputs": [
    {
     "name": "stdout",
     "output_type": "stream",
     "text": [
      "0.3179\n"
     ]
    }
   ],
   "source": [
    "n = 10000 \n",
    "def simulare(n):\n",
    "    bileRosiiExtrase=0\n",
    "    for _ in range(n):\n",
    "       bilaExtrasa=experiment()\n",
    "       if bilaExtrasa==\"rosie\":\n",
    "         bileRosiiExtrase+=1\n",
    "    return bileRosiiExtrase/n\n",
    "\n",
    "print(simulare(n))\n",
    "\n",
    "    "
   ]
  },
  {
   "cell_type": "markdown",
   "metadata": {},
   "source": [
    "Pentru a rezolva punctuul b am rulat experimentul de 10000 ori si am calculat la final (numarul de bile rosii extrase)/n pentru a obtine probabilitatea estimata"
   ]
  },
  {
   "cell_type": "markdown",
   "metadata": {},
   "source": [
    "BONUS:"
   ]
  },
  {
   "cell_type": "markdown",
   "metadata": {},
   "source": [
    "Pentru a calcula probabilitatea teoretica va trebui sa calculam probabilitatea extragerii unei bile rosii dupa adaugarea unei bile noi, conditionata de aruncarea zarului\n",
    "\n",
    "Cazul zar prim:\n",
    "    P(rosie|zar prim) = 3/(3+4+3) *3/6 = 3/10 * 3/6 = 9/60 = 3/20   deoarece in urna vom avea 3 bile rosii, 4 albastre si 3 negre iar probabilitatea ca acest caz sa aibe loc este 3/6 deoarece numerele prime de pe un zar cu 6 fete sunt 2 3 si 5, decii probabilitatede 3/6\n",
    "\n",
    "Cazul zar 6:\n",
    "    P(rosie|zar 6) = 3/(4+4+2)*1/6 = 3/10  * 1/6=4/60=1/15  deoarece in urna vom avea 4 bile rosii, 4 albastre si 2 negre iar probabilitatea ca acest caz sa aibe loc este 1/6 \n",
    "\n",
    "Cazul zar 1 sau 4:\n",
    "    P(rosie| zar 1 sau 4) = 3/(3+5+2) * 2/6 = 3/10*2/6 = 6/60=1/10    deoarece in urna vom avea 3 bile rosii, 5 albastre si 2 negre iar probabilitatea ca acest caz sa aibe loc este 2/6 "
   ]
  },
  {
   "cell_type": "markdown",
   "metadata": {},
   "source": [
    "In concluzei P(rosie)= 3/20 + 1/15 + 1/10 = 0.31(6)"
   ]
  },
  {
   "cell_type": "code",
   "execution_count": 21,
   "metadata": {},
   "outputs": [
    {
     "ename": "TypeError",
     "evalue": "'int' object is not iterable",
     "output_type": "error",
     "traceback": [
      "\u001b[1;31m---------------------------------------------------------------------------\u001b[0m",
      "\u001b[1;31mTypeError\u001b[0m                                 Traceback (most recent call last)",
      "Cell \u001b[1;32mIn[21], line 6\u001b[0m\n\u001b[0;32m      3\u001b[0m simulari\u001b[38;5;241m=\u001b[39m\u001b[38;5;241m1000\u001b[39m\n\u001b[0;32m      4\u001b[0m sumaDiferente\u001b[38;5;241m=\u001b[39m\u001b[38;5;241m0\u001b[39m\n\u001b[1;32m----> 6\u001b[0m \u001b[38;5;28;43;01mfor\u001b[39;49;00m\u001b[43m \u001b[49m\u001b[43m_\u001b[49m\u001b[43m \u001b[49m\u001b[38;5;129;43;01min\u001b[39;49;00m\u001b[43m \u001b[49m\u001b[43msimulari\u001b[49m\u001b[43m:\u001b[49m\n\u001b[0;32m      7\u001b[0m \u001b[43m    \u001b[49m\u001b[43msumaDiferente\u001b[49m\u001b[38;5;241;43m=\u001b[39;49m\u001b[38;5;28;43mabs\u001b[39;49m\u001b[43m(\u001b[49m\u001b[43mprobTeoretica\u001b[49m\u001b[38;5;241;43m-\u001b[39;49m\u001b[43msimulare\u001b[49m\u001b[43m(\u001b[49m\u001b[43mn\u001b[49m\u001b[43m)\u001b[49m\u001b[43m)\u001b[49m\n\u001b[0;32m      9\u001b[0m \u001b[38;5;28mprint\u001b[39m(\u001b[38;5;124mf\u001b[39m\u001b[38;5;124m\"\u001b[39m\u001b[38;5;124mDiferenta medie dintre probabilitatea practica si cea teoretica: \u001b[39m\u001b[38;5;132;01m{\u001b[39;00msumaDiferente\u001b[38;5;241m/\u001b[39msimulari\u001b[38;5;132;01m}\u001b[39;00m\u001b[38;5;124m\"\u001b[39m)\n",
      "\u001b[1;31mTypeError\u001b[0m: 'int' object is not iterable"
     ]
    }
   ],
   "source": [
    "probTeoretica = 0.3166666\n",
    "\n",
    "simulari=1000\n",
    "sumaDiferente=0\n",
    "\n",
    "for _ in simulari:\n",
    "    sim=simulare(n)\n",
    "    sumaDiferente=abs(probTeoretica-sim)\n",
    "\n",
    "print(f\"Diferenta medie dintre probabilitatea practica si cea teoretica: {sumaDiferente/simulari}\")"
   ]
  }
 ],
 "metadata": {
  "kernelspec": {
   "display_name": "Python 3",
   "language": "python",
   "name": "python3"
  },
  "language_info": {
   "codemirror_mode": {
    "name": "ipython",
    "version": 3
   },
   "file_extension": ".py",
   "mimetype": "text/x-python",
   "name": "python",
   "nbconvert_exporter": "python",
   "pygments_lexer": "ipython3",
   "version": "3.12.1"
  }
 },
 "nbformat": 4,
 "nbformat_minor": 2
}
